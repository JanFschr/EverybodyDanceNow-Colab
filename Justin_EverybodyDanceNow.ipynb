{
  "nbformat": 4,
  "nbformat_minor": 0,
  "metadata": {
    "colab": {
      "name": "Justin/EverybodyDanceNow.ipynb",
      "provenance": [],
      "collapsed_sections": [],
      "toc_visible": true
    },
    "kernelspec": {
      "name": "python3",
      "display_name": "Python 3"
    },
    "accelerator": "GPU"
  },
  "cells": [
    {
      "cell_type": "code",
      "metadata": {
        "id": "U4dcBM9NfqP3"
      },
      "source": [
        "!nvidia-smi"
      ],
      "execution_count": null,
      "outputs": []
    },
    {
      "cell_type": "code",
      "metadata": {
        "cellView": "form",
        "id": "3gzMeLqEJi24"
      },
      "source": [
        "#@title Install or update EverybodyDanceNow from Github\r\n",
        "\r\n",
        "Mode = \"install\" #@param [\"install\", \"update\"]\r\n",
        "\r\n",
        "from pathlib import Path\r\n",
        "if (Mode == \"install\"):\r\n",
        "  !git clone https://github.com/carolineec/EverybodyDanceNow\r\n",
        "!pip install dominate\r\n",
        "!pip install torch==1.6.0+cu101 torchvision==0.7.0+cu101 -f https://download.pytorch.org/whl/torch_stable.html\r\n",
        "!pip install tensorflow==1.15.0\r\n",
        "!pip install scipy==1.2.0"
      ],
      "execution_count": null,
      "outputs": []
    },
    {
      "cell_type": "code",
      "metadata": {
        "cellView": "form",
        "id": "hYKj8JYWf6U7"
      },
      "source": [
        "#@title Import from Drive\r\n",
        "\r\n",
        "Mode = \"EverybodyDanceNow\" #@param [\"EverybodyDanceNow\"]\r\n",
        "Archive_name = \"everybodydancenow.zip\" #@param {type:\"string\"}\r\n",
        "\r\n",
        "#Mount Google Drive as folder\r\n",
        "from google.colab import drive\r\n",
        "drive.mount('/content/drive', force_remount=True)\r\n",
        "\r\n",
        "def zip_and_copy(path, mode):\r\n",
        "  unzip_cmd=\" -q \"+Archive_name\r\n",
        "  \r\n",
        "  %cd $path\r\n",
        "  copy_cmd = \"/content/drive/My\\ Drive/\"+Archive_name+\" \"+path\r\n",
        "  !cp $copy_cmd\r\n",
        "  !unzip $unzip_cmd    \r\n",
        "  !rm $Archive_name\r\n",
        "\r\n",
        "if Mode == \"EverybodyDanceNow\":\r\n",
        "  zip_and_copy(\"/content\", \"EverybodyDanceNow\")\r\n",
        "elif Mode == \"data_src\":\r\n",
        "  zip_and_copy(\"/content/workspace\", \"data_src\")\r\n",
        "elif Mode == \"data_dst\":\r\n",
        "  zip_and_copy(\"/content/workspace\", \"data_dst\")\r\n",
        "elif Mode == \"data_src aligned\":\r\n",
        "  zip_and_copy(\"/content/workspace/data_src\", \"aligned\")\r\n",
        "elif Mode == \"data_dst aligned\":\r\n",
        "  zip_and_copy(\"/content/workspace/data_dst\", \"aligned\")\r\n",
        "elif Mode == \"models\":\r\n",
        "  zip_and_copy(\"/content/workspace\", \"model\")\r\n",
        "  \r\n",
        "print(\"Done!\")\r\n",
        "\r\n"
      ],
      "execution_count": null,
      "outputs": []
    },
    {
      "cell_type": "code",
      "metadata": {
        "cellView": "form",
        "id": "aCEy-ui2YTNR"
      },
      "source": [
        "#@title Change directory to EverybodyDanceNow { form-width: \"30%\" }\r\n",
        "cd EverybodyDanceNow"
      ],
      "execution_count": null,
      "outputs": []
    },
    {
      "cell_type": "code",
      "metadata": {
        "cellView": "form",
        "id": "0YtW5Ia5XtOF"
      },
      "source": [
        "#@title Train a model at 512x256 resolution { form-width: \"30%\" }\r\n",
        "!python train_fullts.py \\\r\n",
        "--name MY_MODEL_NAME_global \\\r\n",
        "--dataroot MY_TRAINING_DATASET \\\r\n",
        "--checkpoints_dir WHERE_TO_SAVE_CHECKPOINTS \\\r\n",
        "--loadSize 512 \\\r\n",
        "--no_instance \\\r\n",
        "--no_flip \\\r\n",
        "--tf_log \\\r\n",
        "--label_nc 6\r\n",
        "\r\n"
      ],
      "execution_count": null,
      "outputs": []
    },
    {
      "cell_type": "code",
      "metadata": {
        "cellView": "form",
        "id": "zuovX85qX-f_"
      },
      "source": [
        "#@title Train a model at 1024x512 resolution { form-width: \"30%\" }\r\n",
        "!python train_fullts.py \\\r\n",
        "--name MY_MODEL_NAME_local \\\r\n",
        "--dataroot MY_TRAINING_DATASET \\\r\n",
        "--checkpoints_dir WHERE_TO_SAVE_CHECKPOINTS \\\r\n",
        "--load_pretrain MY_MODEL_NAME_global \\\r\n",
        "--netG local \\\r\n",
        "--ngf 32 \\\r\n",
        "--num_D 3 \\\r\n",
        "--resize_or_crop none \\\r\n",
        "--no_instance \\\r\n",
        "--no_flip \\\r\n",
        "--tf_log \\\r\n",
        "--label_nc 6\r\n"
      ],
      "execution_count": null,
      "outputs": []
    },
    {
      "cell_type": "code",
      "metadata": {
        "cellView": "form",
        "id": "a0zPCIXZYHAr"
      },
      "source": [
        "#@title Train a model specialized to the face region { form-width: \"30%\" }\r\n",
        "!python train_fullts.py \\\r\n",
        "--name MY_MODEL_NAME_face \\\r\n",
        "--dataroot MY_TRAINING_DATASET \\\r\n",
        "--load_pretrain MY_MODEL_NAME_local \\\r\n",
        "--checkpoints_dir WHERE_TO_SAVE_CHECKPOINTS \\\r\n",
        "--face_discrim \\\r\n",
        "--face_generator \\\r\n",
        "--faceGtype global \\\r\n",
        "--niter_fix_main 10 \\\r\n",
        "--netG local \\\r\n",
        "--ngf 32 \\\r\n",
        "--num_D 3 \\\r\n",
        "--resize_or_crop none \\\r\n",
        "--no_instance \\\r\n",
        "--no_flip \\\r\n",
        "--tf_log \\\r\n",
        "--label_nc 6"
      ],
      "execution_count": null,
      "outputs": []
    },
    {
      "cell_type": "code",
      "metadata": {
        "id": "Tq-2CKDEeX4e"
      },
      "source": [
        "# test model at 512x256 resolution\r\n",
        "python test_fullts.py \\\r\n",
        "--name MY_MODEL_NAME_global \\\r\n",
        "--dataroot MY_TEST_DATASET \\\r\n",
        "--checkpoints_dir CHECKPOINT_FILE_LOCATION \\\r\n",
        "--results_dir WHERE_TO_SAVE_RESULTS \\\r\n",
        "--loadSize 512 \\\r\n",
        "--no_instance \\\r\n",
        "--how_many 10000 \\\r\n",
        "--label_nc 6"
      ],
      "execution_count": null,
      "outputs": []
    },
    {
      "cell_type": "code",
      "metadata": {
        "id": "hrhb_PQLeZul"
      },
      "source": [
        "# test model at 1024x512 resolution\r\n",
        "!python test_fullts.py \\\r\n",
        "--name MY_MODEL_NAME_local \\\r\n",
        "--dataroot MY_TEST_DATASET \\\r\n",
        "--checkpoints_dir CHECKPOINT_FILE_LOCATION \\\r\n",
        "--results_dir WHERE_TO_SAVE_RESULTS \\\r\n",
        "--netG local \\\r\n",
        "--ngf 32 \\\r\n",
        "--resize_or_crop none \\\r\n",
        "--no_instance \\\r\n",
        "--how_many 10000 \\\r\n",
        "--label_nc 6"
      ],
      "execution_count": null,
      "outputs": []
    },
    {
      "cell_type": "code",
      "metadata": {
        "id": "G_yUn8mIeb4F"
      },
      "source": [
        "# test model at 1024x512 resolution with face GAN\r\n",
        "!python test_fullts.py \\\r\n",
        "--name MY_MODEL_NAME_face \\\r\n",
        "--dataroot MY_TEST_DATASET \\\r\n",
        "--checkpoints_dir CHECKPOINT_FILE_LOCATION \\\r\n",
        "--results_dir WHERE_TO_SAVE_RESULTS \\\r\n",
        "--face_generator \\\r\n",
        "--faceGtype global \\\r\n",
        "--netG local \\\r\n",
        "--ngf 32 \\\r\n",
        "--resize_or_crop none \\\r\n",
        "--no_instance \\\r\n",
        "--how_many 10000 \\\r\n",
        "--label_nc 6"
      ],
      "execution_count": null,
      "outputs": []
    },
    {
      "cell_type": "code",
      "metadata": {
        "id": "dNgZS205FMk8",
        "cellView": "form"
      },
      "source": [
        "#@title Export to Drive { form-width: \"30%\" }\r\n",
        "Mode = \"EverybodyDanceNow\" #@param [\"EverybodyDanceNow\", \"MY_MODEL_NAME_global\", \"MY_MODEL_NAME_local\"]\r\n",
        "Archive_name = \"everybodydancenow.zip\" #@param {type:\"string\"}\r\n",
        "\r\n",
        "#Mount Google Drive as folder\r\n",
        "from google.colab import drive\r\n",
        "drive.mount('/content/drive', force_remount=True)\r\n",
        "\r\n",
        "def zip_and_copy(path, mode):\r\n",
        "  zip_cmd=\"-r -q \"+Archive_name+\" \"\r\n",
        "  \r\n",
        "  %cd $path\r\n",
        "  zip_cmd+=mode\r\n",
        "  !zip $zip_cmd\r\n",
        "  copy_cmd = \" \"+Archive_name+\"  /content/drive/My\\ Drive/\"\r\n",
        "  !cp $copy_cmd\r\n",
        "  !rm $Archive_name\r\n",
        "\r\n",
        "if Mode == \"EverybodyDanceNow\":\r\n",
        " zip_and_copy(\"/content\", \"EverybodyDanceNow\")\r\n",
        "elif Mode == \"MY_MODEL_NAME_global\":\r\n",
        " zip_and_copy(\"/content/EverybodyDanceNow\", \"MY_MODEL_NAME_global\")\r\n",
        "elif Mode == \"MY_MODEL_NAME_local\":\r\n",
        " zip_and_copy(\"/content/EverybodyDanceNow\", \"MY_MODEL_NAME_local\")\r\n",
        "\r\n",
        " \r\n",
        "  \r\n",
        "print(\"Done!\")\r\n"
      ],
      "execution_count": null,
      "outputs": []
    },
    {
      "cell_type": "markdown",
      "metadata": {
        "id": "e-cgYMXIg6r6"
      },
      "source": [
        "## **Dataset preparation**"
      ]
    }
  ]
}